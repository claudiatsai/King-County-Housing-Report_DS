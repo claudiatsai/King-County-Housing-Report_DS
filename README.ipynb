{
 "cells": [
  {
   "cell_type": "markdown",
   "metadata": {},
   "source": [
    " # King County Housing Price Market Report"
   ]
  },
  {
   "cell_type": "markdown",
   "metadata": {},
   "source": [
    "The market report is aimed at the home buyers in King County, WA. <br>\n",
    "The report provides EDA and price prediction model for potential home buyers to make a better decision.<br>\n"
   ]
  },
  {
   "cell_type": "markdown",
   "metadata": {},
   "source": [
    "## Most Common Questions Asked by Home Buyers"
   ]
  },
  {
   "cell_type": "markdown",
   "metadata": {},
   "source": [
    " - What features affect property value the most? <br>\n",
    " - Does season affect house price ?\n",
    " - Which season has more choices of houses?\n",
    " - Does location have impact on the home price?"
   ]
  },
  {
   "cell_type": "markdown",
   "metadata": {},
   "source": [
    "## Data\n",
    " - 21,597 house records\n",
    " - 20 different features\n",
    " - From May 2014 to May 2015"
   ]
  },
  {
   "cell_type": "markdown",
   "metadata": {},
   "source": [
    "Continuous Data\n",
    "- price\n",
    "- sqft_living\n",
    "- sqft_living15\n",
    "- grade\n",
    "\n",
    "Categorical Data\n",
    "- view\n",
    "- condition\n",
    "- bedrooms\n",
    "- bathrooms\n",
    "- zip code\n",
    "- seasons\n",
    "\n",
    "Boolean Data\n",
    "- with_basement\n",
    "- waterfront"
   ]
  },
  {
   "cell_type": "markdown",
   "metadata": {},
   "source": [
    "## Methods"
   ]
  },
  {
   "cell_type": "markdown",
   "metadata": {},
   "source": [
    "- OSEMN is applied in the report.\n",
    "- Linear regression models have been built and refined to provide the best predictions for our clients."
   ]
  },
  {
   "cell_type": "markdown",
   "metadata": {},
   "source": [
    "## Exploratory Data Analysis"
   ]
  },
  {
   "cell_type": "markdown",
   "metadata": {},
   "source": [
    "- Through an exploratory data analysis to gain a better understanding of the dataset.\n",
    "- The data visualizations helped us to learn the features and to communicate with out clients."
   ]
  },
  {
   "cell_type": "markdown",
   "metadata": {},
   "source": [
    "## How does location impact housing price?"
   ]
  },
  {
   "cell_type": "markdown",
   "metadata": {},
   "source": [
    "<img src = \"image/zipcode_price.png\"/>"
   ]
  },
  {
   "cell_type": "markdown",
   "metadata": {},
   "source": [
    "From above graph, the highest average housing price is in zip code 98039, which is way higher than the 2nd place, which average housing price in zip code 98004."
   ]
  },
  {
   "cell_type": "markdown",
   "metadata": {},
   "source": [
    "<img src=\"image/lat_long.png\"/>"
   ]
  },
  {
   "cell_type": "markdown",
   "metadata": {},
   "source": [
    "Light blue to dark red means the housing prices increase.<br>\n",
    "One observation is that higher housing prices in the North of King County.<br>\n",
    "Another observation is that higher prices homes are on the waterfront because you can see intensive red dots around the Lake."
   ]
  },
  {
   "cell_type": "markdown",
   "metadata": {},
   "source": [
    "### Do seasons impact the housing price?"
   ]
  },
  {
   "cell_type": "markdown",
   "metadata": {},
   "source": [
    "<img src=\"image/season_price.png\"/>"
   ]
  },
  {
   "cell_type": "markdown",
   "metadata": {},
   "source": [
    "- Spring has the highest average housing price followed by summer and fall\n",
    "- There is no big difference of average price within seasons"
   ]
  },
  {
   "cell_type": "markdown",
   "metadata": {},
   "source": [
    "### Which season or month are houses more available?"
   ]
  },
  {
   "cell_type": "markdown",
   "metadata": {},
   "source": [
    "<img src=\"image/season_quantity.png\"/>"
   ]
  },
  {
   "cell_type": "markdown",
   "metadata": {},
   "source": [
    "<img src=\"image/month_quantity.png\"/>"
   ]
  },
  {
   "cell_type": "markdown",
   "metadata": {},
   "source": [
    "More houses are available in spring and summer.<br>\n",
    "If drill down to each month, more houses are available from March to August.\n"
   ]
  },
  {
   "cell_type": "markdown",
   "metadata": {},
   "source": [
    "### Where to find better grade houses and what is the price like in each grade ?"
   ]
  },
  {
   "cell_type": "markdown",
   "metadata": {},
   "source": [
    "<img src =\"image/grade_price.png\"/>"
   ]
  },
  {
   "cell_type": "markdown",
   "metadata": {},
   "source": [
    "From the above graph, housing prices to increase with a higher grade.<br>\n",
    "From grade 7 (average) to 10 (good), the median housing price are below $1M."
   ]
  },
  {
   "cell_type": "markdown",
   "metadata": {},
   "source": [
    "<img src=\"image/grade_quantity.png\"/>"
   ]
  },
  {
   "cell_type": "markdown",
   "metadata": {},
   "source": [
    "Average grade houses are the most available followed by good and better."
   ]
  },
  {
   "cell_type": "markdown",
   "metadata": {},
   "source": [
    "<img src=\"image/grade_loc.png\"/>"
   ]
  },
  {
   "cell_type": "markdown",
   "metadata": {},
   "source": [
    "Luxury and excellent grade houses are on waterfront."
   ]
  },
  {
   "cell_type": "markdown",
   "metadata": {},
   "source": [
    "## House Price Prediction Model"
   ]
  },
  {
   "cell_type": "markdown",
   "metadata": {},
   "source": [
    "The report provides several linear regression models to explain how the features could possibly affect on the housing prices.\n",
    "- Baseline model with sqft_living\n",
    "- Add categorial variables like bedrooms, bathrooms, waterfront, view and condition and then eliminate the features with p-value greater than 0.05\n",
    "- Add zipcode variables, and then eliminate the features with p-value greater than 0.05\n"
   ]
  },
  {
   "cell_type": "markdown",
   "metadata": {},
   "source": [
    "## Final Model"
   ]
  },
  {
   "cell_type": "markdown",
   "metadata": {},
   "source": [
    "Final model can explain 84% of variants in price to predict housing prices in King County"
   ]
  },
  {
   "cell_type": "markdown",
   "metadata": {},
   "source": [
    "<img src =\"image/predicted_test.png\"/>"
   ]
  },
  {
   "cell_type": "markdown",
   "metadata": {},
   "source": [
    "## Recommendations "
   ]
  },
  {
   "cell_type": "markdown",
   "metadata": {},
   "source": [
    "- Grade, living space, condition, bathroom impact the housing prices greatly\n",
    "- Where the house is located determines the price"
   ]
  },
  {
   "cell_type": "markdown",
   "metadata": {},
   "source": [
    "## Next Step"
   ]
  },
  {
   "cell_type": "markdown",
   "metadata": {},
   "source": [
    "- In order to provide more thorough analysis and suggestion, some more features could be explored further, like school district, crime statistics, household income, and public transportation\n",
    "- Mortgage interest rates and  inventory on the market also impact housing prices\n",
    "- More concrete insights can be reached with a longer period of housing price history"
   ]
  },
  {
   "cell_type": "code",
   "execution_count": null,
   "metadata": {},
   "outputs": [],
   "source": []
  }
 ],
 "metadata": {
  "kernelspec": {
   "display_name": "Python 3 (ipykernel)",
   "language": "python",
   "name": "python3"
  },
  "language_info": {
   "codemirror_mode": {
    "name": "ipython",
    "version": 3
   },
   "file_extension": ".py",
   "mimetype": "text/x-python",
   "name": "python",
   "nbconvert_exporter": "python",
   "pygments_lexer": "ipython3",
   "version": "3.9.7"
  },
  "toc": {
   "base_numbering": 1,
   "nav_menu": {},
   "number_sections": false,
   "sideBar": true,
   "skip_h1_title": false,
   "title_cell": "Table of Contents",
   "title_sidebar": "Contents",
   "toc_cell": false,
   "toc_position": {
    "height": "calc(100% - 180px)",
    "left": "10px",
    "top": "150px",
    "width": "256px"
   },
   "toc_section_display": true,
   "toc_window_display": false
  }
 },
 "nbformat": 4,
 "nbformat_minor": 2
}
